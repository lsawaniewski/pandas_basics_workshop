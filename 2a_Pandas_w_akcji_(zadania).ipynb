{
 "cells": [
  {
   "cell_type": "markdown",
   "metadata": {},
   "source": [
    "<img src='img/panda_2.jpg' align=\"left\" style=\"height: 200px;\"/>"
   ]
  },
  {
   "cell_type": "markdown",
   "metadata": {},
   "source": [
    "# Robi się poważnie\n",
    "### Kilka zadań na poprawę samoogarnięcia ;)"
   ]
  },
  {
   "cell_type": "markdown",
   "metadata": {},
   "source": [
    "Wyciągniemy teraz nieco informacji z prawdziwych danych. <br>\n",
    "Nasz dataset to informacje z monitoringu rozprzestrzeniania się epidemii COVID-19 w Polsce prowadzonego przez zaprzyjaźnione Koło Naukowe GeoSiN z Uniwersytetu Warmińsko-Mazurskiego w Olsztynie. <br>\n",
    "Więcej o samym projekcie [TUTAJ](http://www.wirusnamapie.pl/), tymczasem nas interesują \"surowe\" dane, które w postaci pliku .csv czekają w [repozytorium](https://github.com/dtandev/coronavirus/blob/master/data/CoronavirusPL%20-%20Timeseries.csv). "
   ]
  },
  {
   "cell_type": "markdown",
   "metadata": {},
   "source": [
    "Co czeka na nas wewnątrz? Poniżej opis danych udostępniony przez autorów:\n",
    "<blockquote>\n",
    "  Field description\n",
    "\n",
    "    * Timestamp: Date of communique which contains information about infection, death or recovery of the patient [DD-MM-YYYY]\n",
    "    * Province: 1 of 16 polish provinces name\n",
    "    * City: City where the patient comes from or where he/she was diagnosed\n",
    "    * Postal code: postal code for cities which have the same name as another one\n",
    "    * Infection/Death/Recovery: the patient status on the day of communique [I(nfected)/D(eath)/R(ecovered)]\n",
    "    * Sex: patient's gender if available\n",
    "    * Where_infected: the countries which she/he visited in the near past and where he could be infected. The column contains country iso code.\n",
    "    * Who_infected: who could be the source of the infection [Friends/Family/Another patient/Travel co-passenger)\n",
    "    * Age: How old is the patient? [F(emale)/M(ale)]\n",
    "\n",
    "</blockquote>"
   ]
  },
  {
   "cell_type": "markdown",
   "metadata": {},
   "source": [
    "Moglibyśmy skorzystać z możliwości jakie daje nam Pandas i wczytać plik bezpośrednio z url-a, bez pobierania go lokalnie (please, nie róbcie tego na większych danych!). Projekt (niestety..) nadal \"żyje\", więc dla zachowania spójności wyników pobraliśmy jego kopię (stan z 09.05.2020) <br>\n",
    "Ścieżka do pliku: <br>\n",
    "*\"data/CoronavirusPL - Timeseries.csv\"*"
   ]
  },
  {
   "cell_type": "markdown",
   "metadata": {},
   "source": [
    "* Importujemy potrzebne biblioteki "
   ]
  },
  {
   "cell_type": "code",
   "execution_count": 1,
   "metadata": {},
   "outputs": [],
   "source": []
  },
  {
   "cell_type": "markdown",
   "metadata": {},
   "source": [
    "* wczytujemy plik jako DataFrame i wyświetlamy kilka pierwszych wierszy"
   ]
  },
  {
   "cell_type": "code",
   "execution_count": 2,
   "metadata": {},
   "outputs": [],
   "source": []
  },
  {
   "cell_type": "code",
   "execution_count": 3,
   "metadata": {},
   "outputs": [
    {
     "data": {
      "text/html": [
       "<div>\n",
       "<style scoped>\n",
       "    .dataframe tbody tr th:only-of-type {\n",
       "        vertical-align: middle;\n",
       "    }\n",
       "\n",
       "    .dataframe tbody tr th {\n",
       "        vertical-align: top;\n",
       "    }\n",
       "\n",
       "    .dataframe thead th {\n",
       "        text-align: right;\n",
       "    }\n",
       "</style>\n",
       "<table border=\"1\" class=\"dataframe\">\n",
       "  <thead>\n",
       "    <tr style=\"text-align: right;\">\n",
       "      <th></th>\n",
       "      <th>Timestamp</th>\n",
       "      <th>Province</th>\n",
       "      <th>City</th>\n",
       "      <th>Postal_code</th>\n",
       "      <th>Infection/Death/Recovery</th>\n",
       "      <th>Sex</th>\n",
       "      <th>Where_infected</th>\n",
       "      <th>Who_infected</th>\n",
       "      <th>Age</th>\n",
       "    </tr>\n",
       "  </thead>\n",
       "  <tbody>\n",
       "    <tr>\n",
       "      <th>0</th>\n",
       "      <td>06-03-2020</td>\n",
       "      <td>Dolnośląskie</td>\n",
       "      <td>Wrocław</td>\n",
       "      <td>NaN</td>\n",
       "      <td>I</td>\n",
       "      <td>M</td>\n",
       "      <td>GBR</td>\n",
       "      <td>NaN</td>\n",
       "      <td>26.0</td>\n",
       "    </tr>\n",
       "    <tr>\n",
       "      <th>1</th>\n",
       "      <td>08-03-2020</td>\n",
       "      <td>Dolnośląskie</td>\n",
       "      <td>Wrocław</td>\n",
       "      <td>NaN</td>\n",
       "      <td>I</td>\n",
       "      <td>M</td>\n",
       "      <td>ITA</td>\n",
       "      <td>Family</td>\n",
       "      <td>73.0</td>\n",
       "    </tr>\n",
       "    <tr>\n",
       "      <th>2</th>\n",
       "      <td>09-03-2020</td>\n",
       "      <td>Dolnośląskie</td>\n",
       "      <td>Wrocław</td>\n",
       "      <td>NaN</td>\n",
       "      <td>I</td>\n",
       "      <td>F</td>\n",
       "      <td>NaN</td>\n",
       "      <td>Other patient</td>\n",
       "      <td>74.0</td>\n",
       "    </tr>\n",
       "    <tr>\n",
       "      <th>3</th>\n",
       "      <td>11-03-2020</td>\n",
       "      <td>Dolnośląskie</td>\n",
       "      <td>Wrocław</td>\n",
       "      <td>NaN</td>\n",
       "      <td>I</td>\n",
       "      <td>F</td>\n",
       "      <td>POL</td>\n",
       "      <td>Family</td>\n",
       "      <td>NaN</td>\n",
       "    </tr>\n",
       "    <tr>\n",
       "      <th>4</th>\n",
       "      <td>12-03-2020</td>\n",
       "      <td>Dolnośląskie</td>\n",
       "      <td>Wrocław</td>\n",
       "      <td>NaN</td>\n",
       "      <td>I</td>\n",
       "      <td>M</td>\n",
       "      <td>GBR</td>\n",
       "      <td>NaN</td>\n",
       "      <td>NaN</td>\n",
       "    </tr>\n",
       "  </tbody>\n",
       "</table>\n",
       "</div>"
      ],
      "text/plain": [
       "    Timestamp      Province     City Postal_code Infection/Death/Recovery Sex  \\\n",
       "0  06-03-2020  Dolnośląskie  Wrocław         NaN                        I   M   \n",
       "1  08-03-2020  Dolnośląskie  Wrocław         NaN                        I   M   \n",
       "2  09-03-2020  Dolnośląskie  Wrocław         NaN                        I   F   \n",
       "3  11-03-2020  Dolnośląskie  Wrocław         NaN                        I   F   \n",
       "4  12-03-2020  Dolnośląskie  Wrocław         NaN                        I   M   \n",
       "\n",
       "  Where_infected   Who_infected   Age  \n",
       "0            GBR            NaN  26.0  \n",
       "1            ITA         Family  73.0  \n",
       "2            NaN  Other patient  74.0  \n",
       "3            POL         Family   NaN  \n",
       "4            GBR            NaN   NaN  "
      ]
     },
     "execution_count": 3,
     "metadata": {},
     "output_type": "execute_result"
    }
   ],
   "source": []
  },
  {
   "cell_type": "markdown",
   "metadata": {},
   "source": [
    "* Sprawdzamy podstawowe informacje i statystyki naszych danych (wszystkie kolumny)."
   ]
  },
  {
   "cell_type": "code",
   "execution_count": 4,
   "metadata": {},
   "outputs": [
    {
     "name": "stdout",
     "output_type": "stream",
     "text": [
      "<class 'pandas.core.frame.DataFrame'>\n",
      "RangeIndex: 18310 entries, 0 to 18309\n",
      "Data columns (total 9 columns):\n",
      "Timestamp                   18310 non-null object\n",
      "Province                    18310 non-null object\n",
      "City                        18310 non-null object\n",
      "Postal_code                 179 non-null object\n",
      "Infection/Death/Recovery    18310 non-null object\n",
      "Sex                         9566 non-null object\n",
      "Where_infected              925 non-null object\n",
      "Who_infected                306 non-null object\n",
      "Age                         2487 non-null float64\n",
      "dtypes: float64(1), object(8)\n",
      "memory usage: 1.3+ MB\n"
     ]
    }
   ],
   "source": []
  },
  {
   "cell_type": "code",
   "execution_count": 5,
   "metadata": {},
   "outputs": [
    {
     "data": {
      "text/html": [
       "<div>\n",
       "<style scoped>\n",
       "    .dataframe tbody tr th:only-of-type {\n",
       "        vertical-align: middle;\n",
       "    }\n",
       "\n",
       "    .dataframe tbody tr th {\n",
       "        vertical-align: top;\n",
       "    }\n",
       "\n",
       "    .dataframe thead th {\n",
       "        text-align: right;\n",
       "    }\n",
       "</style>\n",
       "<table border=\"1\" class=\"dataframe\">\n",
       "  <thead>\n",
       "    <tr style=\"text-align: right;\">\n",
       "      <th></th>\n",
       "      <th>Timestamp</th>\n",
       "      <th>Province</th>\n",
       "      <th>City</th>\n",
       "      <th>Postal_code</th>\n",
       "      <th>Infection/Death/Recovery</th>\n",
       "      <th>Sex</th>\n",
       "      <th>Where_infected</th>\n",
       "      <th>Who_infected</th>\n",
       "      <th>Age</th>\n",
       "    </tr>\n",
       "  </thead>\n",
       "  <tbody>\n",
       "    <tr>\n",
       "      <th>count</th>\n",
       "      <td>18310</td>\n",
       "      <td>18310</td>\n",
       "      <td>18310</td>\n",
       "      <td>179</td>\n",
       "      <td>18310</td>\n",
       "      <td>9566</td>\n",
       "      <td>925</td>\n",
       "      <td>306</td>\n",
       "      <td>2487.000000</td>\n",
       "    </tr>\n",
       "    <tr>\n",
       "      <th>unique</th>\n",
       "      <td>63</td>\n",
       "      <td>16</td>\n",
       "      <td>423</td>\n",
       "      <td>34</td>\n",
       "      <td>3</td>\n",
       "      <td>4</td>\n",
       "      <td>23</td>\n",
       "      <td>7</td>\n",
       "      <td>NaN</td>\n",
       "    </tr>\n",
       "    <tr>\n",
       "      <th>top</th>\n",
       "      <td>19-04-2020</td>\n",
       "      <td>Śląskie</td>\n",
       "      <td>Wrocław</td>\n",
       "      <td>05-640</td>\n",
       "      <td>I</td>\n",
       "      <td>F</td>\n",
       "      <td>POL</td>\n",
       "      <td>Other patient</td>\n",
       "      <td>NaN</td>\n",
       "    </tr>\n",
       "    <tr>\n",
       "      <th>freq</th>\n",
       "      <td>628</td>\n",
       "      <td>3648</td>\n",
       "      <td>1037</td>\n",
       "      <td>69</td>\n",
       "      <td>14583</td>\n",
       "      <td>5163</td>\n",
       "      <td>803</td>\n",
       "      <td>192</td>\n",
       "      <td>NaN</td>\n",
       "    </tr>\n",
       "    <tr>\n",
       "      <th>mean</th>\n",
       "      <td>NaN</td>\n",
       "      <td>NaN</td>\n",
       "      <td>NaN</td>\n",
       "      <td>NaN</td>\n",
       "      <td>NaN</td>\n",
       "      <td>NaN</td>\n",
       "      <td>NaN</td>\n",
       "      <td>NaN</td>\n",
       "      <td>59.177724</td>\n",
       "    </tr>\n",
       "    <tr>\n",
       "      <th>std</th>\n",
       "      <td>NaN</td>\n",
       "      <td>NaN</td>\n",
       "      <td>NaN</td>\n",
       "      <td>NaN</td>\n",
       "      <td>NaN</td>\n",
       "      <td>NaN</td>\n",
       "      <td>NaN</td>\n",
       "      <td>NaN</td>\n",
       "      <td>22.024263</td>\n",
       "    </tr>\n",
       "    <tr>\n",
       "      <th>min</th>\n",
       "      <td>NaN</td>\n",
       "      <td>NaN</td>\n",
       "      <td>NaN</td>\n",
       "      <td>NaN</td>\n",
       "      <td>NaN</td>\n",
       "      <td>NaN</td>\n",
       "      <td>NaN</td>\n",
       "      <td>NaN</td>\n",
       "      <td>1.000000</td>\n",
       "    </tr>\n",
       "    <tr>\n",
       "      <th>25%</th>\n",
       "      <td>NaN</td>\n",
       "      <td>NaN</td>\n",
       "      <td>NaN</td>\n",
       "      <td>NaN</td>\n",
       "      <td>NaN</td>\n",
       "      <td>NaN</td>\n",
       "      <td>NaN</td>\n",
       "      <td>NaN</td>\n",
       "      <td>44.000000</td>\n",
       "    </tr>\n",
       "    <tr>\n",
       "      <th>50%</th>\n",
       "      <td>NaN</td>\n",
       "      <td>NaN</td>\n",
       "      <td>NaN</td>\n",
       "      <td>NaN</td>\n",
       "      <td>NaN</td>\n",
       "      <td>NaN</td>\n",
       "      <td>NaN</td>\n",
       "      <td>NaN</td>\n",
       "      <td>61.000000</td>\n",
       "    </tr>\n",
       "    <tr>\n",
       "      <th>75%</th>\n",
       "      <td>NaN</td>\n",
       "      <td>NaN</td>\n",
       "      <td>NaN</td>\n",
       "      <td>NaN</td>\n",
       "      <td>NaN</td>\n",
       "      <td>NaN</td>\n",
       "      <td>NaN</td>\n",
       "      <td>NaN</td>\n",
       "      <td>78.000000</td>\n",
       "    </tr>\n",
       "    <tr>\n",
       "      <th>max</th>\n",
       "      <td>NaN</td>\n",
       "      <td>NaN</td>\n",
       "      <td>NaN</td>\n",
       "      <td>NaN</td>\n",
       "      <td>NaN</td>\n",
       "      <td>NaN</td>\n",
       "      <td>NaN</td>\n",
       "      <td>NaN</td>\n",
       "      <td>101.000000</td>\n",
       "    </tr>\n",
       "  </tbody>\n",
       "</table>\n",
       "</div>"
      ],
      "text/plain": [
       "         Timestamp Province     City Postal_code Infection/Death/Recovery  \\\n",
       "count        18310    18310    18310         179                    18310   \n",
       "unique          63       16      423          34                        3   \n",
       "top     19-04-2020  Śląskie  Wrocław      05-640                        I   \n",
       "freq           628     3648     1037          69                    14583   \n",
       "mean           NaN      NaN      NaN         NaN                      NaN   \n",
       "std            NaN      NaN      NaN         NaN                      NaN   \n",
       "min            NaN      NaN      NaN         NaN                      NaN   \n",
       "25%            NaN      NaN      NaN         NaN                      NaN   \n",
       "50%            NaN      NaN      NaN         NaN                      NaN   \n",
       "75%            NaN      NaN      NaN         NaN                      NaN   \n",
       "max            NaN      NaN      NaN         NaN                      NaN   \n",
       "\n",
       "         Sex Where_infected   Who_infected          Age  \n",
       "count   9566            925            306  2487.000000  \n",
       "unique     4             23              7          NaN  \n",
       "top        F            POL  Other patient          NaN  \n",
       "freq    5163            803            192          NaN  \n",
       "mean     NaN            NaN            NaN    59.177724  \n",
       "std      NaN            NaN            NaN    22.024263  \n",
       "min      NaN            NaN            NaN     1.000000  \n",
       "25%      NaN            NaN            NaN    44.000000  \n",
       "50%      NaN            NaN            NaN    61.000000  \n",
       "75%      NaN            NaN            NaN    78.000000  \n",
       "max      NaN            NaN            NaN   101.000000  "
      ]
     },
     "execution_count": 5,
     "metadata": {},
     "output_type": "execute_result"
    }
   ],
   "source": [
    " # Czy na podstawie tak podstawowych informacji możemy coś wywnioskować?"
   ]
  },
  {
   "cell_type": "markdown",
   "metadata": {},
   "source": [
    "* Ile województw (Province) i miast (City) znalazło się w bazie?"
   ]
  },
  {
   "cell_type": "code",
   "execution_count": 6,
   "metadata": {},
   "outputs": [
    {
     "data": {
      "text/plain": [
       "16"
      ]
     },
     "execution_count": 6,
     "metadata": {},
     "output_type": "execute_result"
    }
   ],
   "source": []
  },
  {
   "cell_type": "code",
   "execution_count": 7,
   "metadata": {},
   "outputs": [
    {
     "data": {
      "text/plain": [
       "423"
      ]
     },
     "execution_count": 7,
     "metadata": {},
     "output_type": "execute_result"
    }
   ],
   "source": []
  },
  {
   "cell_type": "markdown",
   "metadata": {},
   "source": [
    "* Które (10) miast pojawiło się w komunikatach najczęściej?"
   ]
  },
  {
   "cell_type": "code",
   "execution_count": 8,
   "metadata": {},
   "outputs": [
    {
     "data": {
      "text/plain": [
       "Wrocław     1037\n",
       "Warszawa     979\n",
       "Katowice     746\n",
       "Poznań       690\n",
       "Łódź         654\n",
       "Radom        527\n",
       "Kalisz       501\n",
       "Bytom        363\n",
       "Kraków       342\n",
       "Gdańsk       304\n",
       "Name: City, dtype: int64"
      ]
     },
     "execution_count": 8,
     "metadata": {},
     "output_type": "execute_result"
    }
   ],
   "source": []
  },
  {
   "cell_type": "markdown",
   "metadata": {},
   "source": [
    "* Wyświetl informacje o najstarszym przypadku w bazie."
   ]
  },
  {
   "cell_type": "code",
   "execution_count": 9,
   "metadata": {},
   "outputs": [
    {
     "data": {
      "text/html": [
       "<div>\n",
       "<style scoped>\n",
       "    .dataframe tbody tr th:only-of-type {\n",
       "        vertical-align: middle;\n",
       "    }\n",
       "\n",
       "    .dataframe tbody tr th {\n",
       "        vertical-align: top;\n",
       "    }\n",
       "\n",
       "    .dataframe thead th {\n",
       "        text-align: right;\n",
       "    }\n",
       "</style>\n",
       "<table border=\"1\" class=\"dataframe\">\n",
       "  <thead>\n",
       "    <tr style=\"text-align: right;\">\n",
       "      <th></th>\n",
       "      <th>Timestamp</th>\n",
       "      <th>Province</th>\n",
       "      <th>City</th>\n",
       "      <th>Postal_code</th>\n",
       "      <th>Infection/Death/Recovery</th>\n",
       "      <th>Sex</th>\n",
       "      <th>Where_infected</th>\n",
       "      <th>Who_infected</th>\n",
       "      <th>Age</th>\n",
       "    </tr>\n",
       "  </thead>\n",
       "  <tbody>\n",
       "    <tr>\n",
       "      <th>9018</th>\n",
       "      <td>15-04-2020</td>\n",
       "      <td>Wielkopolskie</td>\n",
       "      <td>Kalisz</td>\n",
       "      <td>NaN</td>\n",
       "      <td>I</td>\n",
       "      <td>F</td>\n",
       "      <td>NaN</td>\n",
       "      <td>NaN</td>\n",
       "      <td>101.0</td>\n",
       "    </tr>\n",
       "  </tbody>\n",
       "</table>\n",
       "</div>"
      ],
      "text/plain": [
       "       Timestamp       Province    City Postal_code Infection/Death/Recovery  \\\n",
       "9018  15-04-2020  Wielkopolskie  Kalisz         NaN                        I   \n",
       "\n",
       "     Sex Where_infected Who_infected    Age  \n",
       "9018   F            NaN          NaN  101.0  "
      ]
     },
     "execution_count": 9,
     "metadata": {},
     "output_type": "execute_result"
    }
   ],
   "source": []
  },
  {
   "cell_type": "markdown",
   "metadata": {},
   "source": [
    "* Wyświetl informacje o przypadkach z miejscowości Cybinka, Mogilno i Chlewiska."
   ]
  },
  {
   "cell_type": "code",
   "execution_count": 10,
   "metadata": {},
   "outputs": [
    {
     "data": {
      "text/html": [
       "<div>\n",
       "<style scoped>\n",
       "    .dataframe tbody tr th:only-of-type {\n",
       "        vertical-align: middle;\n",
       "    }\n",
       "\n",
       "    .dataframe tbody tr th {\n",
       "        vertical-align: top;\n",
       "    }\n",
       "\n",
       "    .dataframe thead th {\n",
       "        text-align: right;\n",
       "    }\n",
       "</style>\n",
       "<table border=\"1\" class=\"dataframe\">\n",
       "  <thead>\n",
       "    <tr style=\"text-align: right;\">\n",
       "      <th></th>\n",
       "      <th>Timestamp</th>\n",
       "      <th>Province</th>\n",
       "      <th>City</th>\n",
       "      <th>Postal_code</th>\n",
       "      <th>Infection/Death/Recovery</th>\n",
       "      <th>Sex</th>\n",
       "      <th>Where_infected</th>\n",
       "      <th>Who_infected</th>\n",
       "      <th>Age</th>\n",
       "    </tr>\n",
       "  </thead>\n",
       "  <tbody>\n",
       "    <tr>\n",
       "      <th>1755</th>\n",
       "      <td>28-03-2020</td>\n",
       "      <td>Kujawsko-pomorskie</td>\n",
       "      <td>Mogilno</td>\n",
       "      <td>88-300</td>\n",
       "      <td>I</td>\n",
       "      <td>M</td>\n",
       "      <td>NaN</td>\n",
       "      <td>NaN</td>\n",
       "      <td>NaN</td>\n",
       "    </tr>\n",
       "    <tr>\n",
       "      <th>1800</th>\n",
       "      <td>01-04-2020</td>\n",
       "      <td>Kujawsko-pomorskie</td>\n",
       "      <td>Mogilno</td>\n",
       "      <td>NaN</td>\n",
       "      <td>I</td>\n",
       "      <td>F</td>\n",
       "      <td>NaN</td>\n",
       "      <td>NaN</td>\n",
       "      <td>NaN</td>\n",
       "    </tr>\n",
       "    <tr>\n",
       "      <th>2661</th>\n",
       "      <td>04-03-2020</td>\n",
       "      <td>Lubuskie</td>\n",
       "      <td>Cybinka</td>\n",
       "      <td>NaN</td>\n",
       "      <td>I</td>\n",
       "      <td>M</td>\n",
       "      <td>DEU</td>\n",
       "      <td>NaN</td>\n",
       "      <td>66.0</td>\n",
       "    </tr>\n",
       "    <tr>\n",
       "      <th>3045</th>\n",
       "      <td>27-03-2020</td>\n",
       "      <td>Mazowieckie</td>\n",
       "      <td>Chlewiska</td>\n",
       "      <td>26-510</td>\n",
       "      <td>I</td>\n",
       "      <td>NaN</td>\n",
       "      <td>NaN</td>\n",
       "      <td>NaN</td>\n",
       "      <td>NaN</td>\n",
       "    </tr>\n",
       "    <tr>\n",
       "      <th>15021</th>\n",
       "      <td>17-03-2020</td>\n",
       "      <td>Lubuskie</td>\n",
       "      <td>Cybinka</td>\n",
       "      <td>NaN</td>\n",
       "      <td>R</td>\n",
       "      <td>M</td>\n",
       "      <td>DEU</td>\n",
       "      <td>NaN</td>\n",
       "      <td>66.0</td>\n",
       "    </tr>\n",
       "  </tbody>\n",
       "</table>\n",
       "</div>"
      ],
      "text/plain": [
       "        Timestamp            Province       City Postal_code  \\\n",
       "1755   28-03-2020  Kujawsko-pomorskie    Mogilno      88-300   \n",
       "1800   01-04-2020  Kujawsko-pomorskie    Mogilno         NaN   \n",
       "2661   04-03-2020            Lubuskie    Cybinka         NaN   \n",
       "3045   27-03-2020         Mazowieckie  Chlewiska      26-510   \n",
       "15021  17-03-2020            Lubuskie    Cybinka         NaN   \n",
       "\n",
       "      Infection/Death/Recovery  Sex Where_infected Who_infected   Age  \n",
       "1755                         I    M            NaN          NaN   NaN  \n",
       "1800                         I    F            NaN          NaN   NaN  \n",
       "2661                         I    M            DEU          NaN  66.0  \n",
       "3045                         I  NaN            NaN          NaN   NaN  \n",
       "15021                        R    M            DEU          NaN  66.0  "
      ]
     },
     "execution_count": 10,
     "metadata": {},
     "output_type": "execute_result"
    }
   ],
   "source": []
  },
  {
   "cell_type": "markdown",
   "metadata": {},
   "source": [
    "* Wypełnij brakujące wartości w kolumnie \"Where_infected\" wartością \"POL\" i wyświetl kilka pierwszych wierszy."
   ]
  },
  {
   "cell_type": "code",
   "execution_count": 11,
   "metadata": {},
   "outputs": [
    {
     "data": {
      "text/html": [
       "<div>\n",
       "<style scoped>\n",
       "    .dataframe tbody tr th:only-of-type {\n",
       "        vertical-align: middle;\n",
       "    }\n",
       "\n",
       "    .dataframe tbody tr th {\n",
       "        vertical-align: top;\n",
       "    }\n",
       "\n",
       "    .dataframe thead th {\n",
       "        text-align: right;\n",
       "    }\n",
       "</style>\n",
       "<table border=\"1\" class=\"dataframe\">\n",
       "  <thead>\n",
       "    <tr style=\"text-align: right;\">\n",
       "      <th></th>\n",
       "      <th>Timestamp</th>\n",
       "      <th>Province</th>\n",
       "      <th>City</th>\n",
       "      <th>Postal_code</th>\n",
       "      <th>Infection/Death/Recovery</th>\n",
       "      <th>Sex</th>\n",
       "      <th>Where_infected</th>\n",
       "      <th>Who_infected</th>\n",
       "      <th>Age</th>\n",
       "    </tr>\n",
       "  </thead>\n",
       "  <tbody>\n",
       "    <tr>\n",
       "      <th>0</th>\n",
       "      <td>06-03-2020</td>\n",
       "      <td>Dolnośląskie</td>\n",
       "      <td>Wrocław</td>\n",
       "      <td>NaN</td>\n",
       "      <td>I</td>\n",
       "      <td>M</td>\n",
       "      <td>GBR</td>\n",
       "      <td>NaN</td>\n",
       "      <td>26.0</td>\n",
       "    </tr>\n",
       "    <tr>\n",
       "      <th>1</th>\n",
       "      <td>08-03-2020</td>\n",
       "      <td>Dolnośląskie</td>\n",
       "      <td>Wrocław</td>\n",
       "      <td>NaN</td>\n",
       "      <td>I</td>\n",
       "      <td>M</td>\n",
       "      <td>ITA</td>\n",
       "      <td>Family</td>\n",
       "      <td>73.0</td>\n",
       "    </tr>\n",
       "    <tr>\n",
       "      <th>2</th>\n",
       "      <td>09-03-2020</td>\n",
       "      <td>Dolnośląskie</td>\n",
       "      <td>Wrocław</td>\n",
       "      <td>NaN</td>\n",
       "      <td>I</td>\n",
       "      <td>F</td>\n",
       "      <td>POL</td>\n",
       "      <td>Other patient</td>\n",
       "      <td>74.0</td>\n",
       "    </tr>\n",
       "    <tr>\n",
       "      <th>3</th>\n",
       "      <td>11-03-2020</td>\n",
       "      <td>Dolnośląskie</td>\n",
       "      <td>Wrocław</td>\n",
       "      <td>NaN</td>\n",
       "      <td>I</td>\n",
       "      <td>F</td>\n",
       "      <td>POL</td>\n",
       "      <td>Family</td>\n",
       "      <td>NaN</td>\n",
       "    </tr>\n",
       "    <tr>\n",
       "      <th>4</th>\n",
       "      <td>12-03-2020</td>\n",
       "      <td>Dolnośląskie</td>\n",
       "      <td>Wrocław</td>\n",
       "      <td>NaN</td>\n",
       "      <td>I</td>\n",
       "      <td>M</td>\n",
       "      <td>GBR</td>\n",
       "      <td>NaN</td>\n",
       "      <td>NaN</td>\n",
       "    </tr>\n",
       "  </tbody>\n",
       "</table>\n",
       "</div>"
      ],
      "text/plain": [
       "    Timestamp      Province     City Postal_code Infection/Death/Recovery Sex  \\\n",
       "0  06-03-2020  Dolnośląskie  Wrocław         NaN                        I   M   \n",
       "1  08-03-2020  Dolnośląskie  Wrocław         NaN                        I   M   \n",
       "2  09-03-2020  Dolnośląskie  Wrocław         NaN                        I   F   \n",
       "3  11-03-2020  Dolnośląskie  Wrocław         NaN                        I   F   \n",
       "4  12-03-2020  Dolnośląskie  Wrocław         NaN                        I   M   \n",
       "\n",
       "  Where_infected   Who_infected   Age  \n",
       "0            GBR            NaN  26.0  \n",
       "1            ITA         Family  73.0  \n",
       "2            POL  Other patient  74.0  \n",
       "3            POL         Family   NaN  \n",
       "4            GBR            NaN   NaN  "
      ]
     },
     "execution_count": 11,
     "metadata": {},
     "output_type": "execute_result"
    }
   ],
   "source": []
  },
  {
   "cell_type": "markdown",
   "metadata": {},
   "source": [
    "* Ile zakażeń łącznie odnotowano (\"Infection/Death/Recovery\" == \"I\")?"
   ]
  },
  {
   "cell_type": "code",
   "execution_count": 12,
   "metadata": {},
   "outputs": [
    {
     "data": {
      "text/plain": [
       "14583"
      ]
     },
     "execution_count": 12,
     "metadata": {},
     "output_type": "execute_result"
    }
   ],
   "source": []
  },
  {
   "cell_type": "markdown",
   "metadata": {},
   "source": [
    "* Ile zgonów (\"Infection/Death/Recovery\" == \"D\") zanotowano w Warszawie?"
   ]
  },
  {
   "cell_type": "code",
   "execution_count": 13,
   "metadata": {},
   "outputs": [
    {
     "data": {
      "text/plain": [
       "117"
      ]
     },
     "execution_count": 13,
     "metadata": {},
     "output_type": "execute_result"
    }
   ],
   "source": []
  },
  {
   "cell_type": "markdown",
   "metadata": {},
   "source": [
    "* Jak wygląda liczba zakażeń/zgonów/ozdrowień w podziale na województwa?"
   ]
  },
  {
   "cell_type": "code",
   "execution_count": 14,
   "metadata": {},
   "outputs": [
    {
     "data": {
      "text/plain": [
       "Province             Infection/Death/Recovery\n",
       "Dolnośląskie         D                             57\n",
       "                     I                           1722\n",
       "                     R                            438\n",
       "Kujawsko-pomorskie   D                             30\n",
       "                     I                            561\n",
       "Lubelskie            D                             14\n",
       "                     I                            378\n",
       "Lubuskie             I                             91\n",
       "                     R                             71\n",
       "Mazowieckie          D                            210\n",
       "                     I                           2674\n",
       "                     R                             68\n",
       "Małopolskie          D                             33\n",
       "                     I                           1012\n",
       "Opolskie             D                             31\n",
       "                     I                            450\n",
       "Podkarpackie         D                             24\n",
       "                     I                            366\n",
       "                     R                            241\n",
       "Podlaskie            D                              6\n",
       "                     I                            380\n",
       "                     R                            243\n",
       "Pomorskie            D                             20\n",
       "                     I                            460\n",
       "                     R                            146\n",
       "Warmińsko-Mazurskie  D                              1\n",
       "                     I                            154\n",
       "                     R                            108\n",
       "Wielkopolskie        D                             99\n",
       "                     I                           1616\n",
       "                     R                            430\n",
       "Zachodniopomorskie   D                             13\n",
       "                     I                            452\n",
       "                     R                            177\n",
       "Łódzkie              D                             37\n",
       "                     I                           1116\n",
       "                     R                            423\n",
       "Śląskie              D                            130\n",
       "                     I                           2852\n",
       "                     R                            666\n",
       "Świętokrzyskie       D                             11\n",
       "                     I                            299\n",
       "Name: Timestamp, dtype: int64"
      ]
     },
     "execution_count": 14,
     "metadata": {},
     "output_type": "execute_result"
    }
   ],
   "source": []
  },
  {
   "cell_type": "markdown",
   "metadata": {},
   "source": [
    "<img src='img/panda_7.jpg' align=\"left\" style=\"height: 200px;\"/>"
   ]
  },
  {
   "cell_type": "markdown",
   "metadata": {},
   "source": [
    "## Dobra robota!"
   ]
  },
  {
   "cell_type": "markdown",
   "metadata": {},
   "source": [
    "Pandas daje przeogromne możliwości i trzeba dać sobie trochę czasu na ich przyswojenie (przynajmniej części). <br>\n",
    "Zebrałem kilka dodatkowych źródeł, które na pewno przydadzą się nie tylko początkującym - [LINK]('3_Więcej_o_Pandas.ipynb')"
   ]
  }
 ],
 "metadata": {
  "kernelspec": {
   "display_name": "Python 3",
   "language": "python",
   "name": "python3"
  },
  "language_info": {
   "codemirror_mode": {
    "name": "ipython",
    "version": 3
   },
   "file_extension": ".py",
   "mimetype": "text/x-python",
   "name": "python",
   "nbconvert_exporter": "python",
   "pygments_lexer": "ipython3",
   "version": "3.7.3"
  }
 },
 "nbformat": 4,
 "nbformat_minor": 2
}

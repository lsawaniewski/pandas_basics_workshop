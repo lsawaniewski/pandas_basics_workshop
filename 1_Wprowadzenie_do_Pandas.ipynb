{
 "cells": [
  {
   "cell_type": "markdown",
   "metadata": {},
   "source": [
    "<img src='img/panda_1.jpg' align=\"left\" style=\"height: 200px;\"/>"
   ]
  },
  {
   "cell_type": "markdown",
   "metadata": {},
   "source": [
    "# Wprowadzenie do Pandas"
   ]
  },
  {
   "cell_type": "markdown",
   "metadata": {},
   "source": [
    "Docs: https://pandas.pydata.org/ </br>\n",
    "Cheatsheet: https://bit.ly/2lrgoOU"
   ]
  },
  {
   "cell_type": "code",
   "execution_count": null,
   "metadata": {},
   "outputs": [],
   "source": [
    "# garść życiowych mądrości zanim zaczniemy :) \n",
    "import this"
   ]
  },
  {
   "cell_type": "code",
   "execution_count": null,
   "metadata": {},
   "outputs": [],
   "source": [
    "import pandas as pd \n",
    "import numpy as np"
   ]
  },
  {
   "cell_type": "markdown",
   "metadata": {},
   "source": [
    "## Series"
   ]
  },
  {
   "cell_type": "markdown",
   "metadata": {},
   "source": [
    "Podstawą działania w Pandas są \"Series\" (Serie ??). Praca z nimi jest podobna do jednowymiarywych tablic z numpy (np.array). Główną różnicą jest możliwość nadawania etykiet i indeksowania po nich."
   ]
  },
  {
   "cell_type": "markdown",
   "metadata": {},
   "source": [
    "### Tworzenie:"
   ]
  },
  {
   "cell_type": "code",
   "execution_count": null,
   "metadata": {},
   "outputs": [],
   "source": [
    "# same dane\n",
    "s1 = pd.Series(data=[1, 2, 3, 4, 5])\n",
    "s1"
   ]
  },
  {
   "cell_type": "code",
   "execution_count": null,
   "metadata": {},
   "outputs": [],
   "source": [
    "# dane + etykiety\n",
    "s2 = pd.Series(data=[1, 2, 3, 4, 5], index=[\"a\", \"b\", \"c\", \"d\", \"e\"])\n",
    "s2"
   ]
  },
  {
   "cell_type": "code",
   "execution_count": null,
   "metadata": {},
   "outputs": [],
   "source": [
    "# jako słownik\n",
    "d1 = {\"a\": 1, \"b\": 2, \"c\": 3, \"d\": 4, \"e\": 5}\n",
    "\n",
    "s3 = pd.Series(data=d1)\n",
    "s3"
   ]
  },
  {
   "cell_type": "code",
   "execution_count": null,
   "metadata": {},
   "outputs": [],
   "source": [
    "# zdefiniowany typ danych\n",
    "s4 = pd.Series(d1, dtype=str)\n",
    "s4"
   ]
  },
  {
   "cell_type": "markdown",
   "metadata": {},
   "source": [
    "### Indeksowanie"
   ]
  },
  {
   "cell_type": "code",
   "execution_count": null,
   "metadata": {},
   "outputs": [],
   "source": [
    "# po etykiecie\n",
    "s4[\"b\"]"
   ]
  },
  {
   "cell_type": "code",
   "execution_count": null,
   "metadata": {},
   "outputs": [],
   "source": [
    "# po pozycji\n",
    "s4[1]"
   ]
  },
  {
   "cell_type": "markdown",
   "metadata": {},
   "source": [
    "Operacje na indeksach"
   ]
  },
  {
   "cell_type": "code",
   "execution_count": null,
   "metadata": {},
   "outputs": [],
   "source": [
    "s5 = pd.Series([5, 4, 3, 2, 1, 0], [\"f\", \"e\", \"d\", \"c\", \"b\", \"a\"])\n",
    "\n",
    "print(s5)\n",
    "print()\n",
    "\n",
    "print(s2)\n",
    "print()\n",
    "\n",
    "print(s2 + s5)\n",
    "print()"
   ]
  },
  {
   "cell_type": "code",
   "execution_count": null,
   "metadata": {},
   "outputs": [],
   "source": [
    "s1 + s2 # ?"
   ]
  },
  {
   "cell_type": "code",
   "execution_count": null,
   "metadata": {},
   "outputs": [],
   "source": [
    "# s4.dtype: object, s5.dtype: int64\n",
    "# s4 + s5 # ?"
   ]
  },
  {
   "cell_type": "markdown",
   "metadata": {},
   "source": [
    "### Typy danych"
   ]
  },
  {
   "cell_type": "code",
   "execution_count": null,
   "metadata": {},
   "outputs": [],
   "source": [
    "pd.Series([\"Ala\", \"ma\", \"kota\"])"
   ]
  },
  {
   "cell_type": "code",
   "execution_count": null,
   "metadata": {},
   "outputs": [],
   "source": [
    "pd.Series([[1,2,3], [4,5,6], [7,8,9]])"
   ]
  },
  {
   "cell_type": "code",
   "execution_count": null,
   "metadata": {},
   "outputs": [],
   "source": [
    "pd.Series([object, object, object])"
   ]
  },
  {
   "cell_type": "code",
   "execution_count": null,
   "metadata": {},
   "outputs": [],
   "source": [
    "pd.Series([sum, min, np.array]) "
   ]
  },
  {
   "cell_type": "code",
   "execution_count": null,
   "metadata": {},
   "outputs": [],
   "source": [
    "# można też tak, ale po co??\n",
    "pd.Series([s1, s2, s3]) # robi się nieco dziwnie :) "
   ]
  },
  {
   "cell_type": "markdown",
   "metadata": {},
   "source": [
    "<img src='img/panda_4.jpg' align=\"left\" style=\"height: 200px;\"/>"
   ]
  },
  {
   "cell_type": "markdown",
   "metadata": {},
   "source": [
    "## DataFrames"
   ]
  },
  {
   "cell_type": "markdown",
   "metadata": {},
   "source": [
    "Pandas nabiera mocy dzięki DataFrame-om, które w rzeczywistości są \"sklejonymi\" Series o wspólnych indeksach (jasne?). <br>\n",
    "Na początku, wyglądem i obsługą przypominają nieco Excela (nie mówcie tego głośno ;) ). "
   ]
  },
  {
   "cell_type": "code",
   "execution_count": null,
   "metadata": {},
   "outputs": [],
   "source": [
    "some_data = np.arange(15).reshape(5,3)\n",
    "\n",
    "df1 = pd.DataFrame(\n",
    "    data=some_data, \n",
    "    index=[\"a\", \"b\", \"c\", \"d\", \"e\"], \n",
    "    columns=[\"X\", \"Y\", \"Z\"] \n",
    ")\n",
    "\n",
    "df1"
   ]
  },
  {
   "cell_type": "markdown",
   "metadata": {},
   "source": [
    "### Indeksowanie"
   ]
  },
  {
   "cell_type": "code",
   "execution_count": null,
   "metadata": {},
   "outputs": [],
   "source": [
    "# kolumny\n",
    "df1[\"X\"]"
   ]
  },
  {
   "cell_type": "code",
   "execution_count": null,
   "metadata": {},
   "outputs": [],
   "source": [
    "df1[[\"X\", \"Z\"]]"
   ]
  },
  {
   "cell_type": "code",
   "execution_count": null,
   "metadata": {},
   "outputs": [],
   "source": [
    "# wiersze\n",
    "df1[2: 4]"
   ]
  },
  {
   "cell_type": "markdown",
   "metadata": {},
   "source": [
    "Za autorami: <br>\n",
    "<i><b>\"For production code, we recommended that you take advantage of the optimized pandas data access methods exposed in this chapter.\" </i></b><br>\n",
    "Patrz [TU](https://pandas.pydata.org/pandas-docs/stable/user_guide/indexing.html)\n",
    "\n",
    "<i>df . loc / iloc [ [ wiersze ], [ kolumny ] ] </i> <br>\n",
    "lub <br>\n",
    "<i>df . loc / iloc [ wiersz_start : wiersz_stop, kolumna_start : kolumna_stop ] </i>"
   ]
  },
  {
   "cell_type": "code",
   "execution_count": null,
   "metadata": {},
   "outputs": [],
   "source": [
    "# po etykietach (labels)\n",
    "df1.loc[\"a\"] "
   ]
  },
  {
   "cell_type": "code",
   "execution_count": null,
   "metadata": {},
   "outputs": [],
   "source": [
    "df1.loc[[\"a\", \"d\"]]"
   ]
  },
  {
   "cell_type": "code",
   "execution_count": null,
   "metadata": {},
   "outputs": [],
   "source": [
    "df1.loc[\"c\": \"z\"]"
   ]
  },
  {
   "cell_type": "code",
   "execution_count": null,
   "metadata": {},
   "outputs": [],
   "source": [
    "# po indeksach\n",
    "df1.iloc[[0, 3]] "
   ]
  },
  {
   "cell_type": "code",
   "execution_count": null,
   "metadata": {},
   "outputs": [],
   "source": [
    "df1.iloc[0: 3] "
   ]
  },
  {
   "cell_type": "code",
   "execution_count": null,
   "metadata": {},
   "outputs": [],
   "source": [
    "# wiersze + kolumny\n",
    "df1.loc[[\"a\", \"e\"], [\"X\", \"Z\"]]"
   ]
  },
  {
   "cell_type": "code",
   "execution_count": null,
   "metadata": {},
   "outputs": [],
   "source": [
    "df1.iloc[[1, 2],[1, 2]]"
   ]
  },
  {
   "cell_type": "code",
   "execution_count": null,
   "metadata": {},
   "outputs": [],
   "source": [
    "df1"
   ]
  },
  {
   "cell_type": "code",
   "execution_count": null,
   "metadata": {},
   "outputs": [],
   "source": [
    "# df1.loc[:, :] # ?"
   ]
  },
  {
   "cell_type": "code",
   "execution_count": null,
   "metadata": {},
   "outputs": [],
   "source": [
    "# df1.iloc[:3,[1,2]] # ?"
   ]
  },
  {
   "cell_type": "code",
   "execution_count": null,
   "metadata": {},
   "outputs": [],
   "source": [
    "# df1.iloc[::2,:] # ?"
   ]
  },
  {
   "cell_type": "markdown",
   "metadata": {},
   "source": [
    "<b>df . *</b>"
   ]
  },
  {
   "cell_type": "code",
   "execution_count": null,
   "metadata": {},
   "outputs": [],
   "source": [
    "# df1.Y # działa*"
   ]
  },
  {
   "cell_type": "markdown",
   "metadata": {},
   "source": [
    "### Indeksowanie warunkowe"
   ]
  },
  {
   "cell_type": "code",
   "execution_count": null,
   "metadata": {},
   "outputs": [],
   "source": [
    "# pełny DataFrame\n",
    "df1"
   ]
  },
  {
   "cell_type": "code",
   "execution_count": null,
   "metadata": {},
   "outputs": [],
   "source": [
    "# \"maska logiczna\"\n",
    "df1[\"Y\"] > 11"
   ]
  },
  {
   "cell_type": "code",
   "execution_count": null,
   "metadata": {},
   "outputs": [],
   "source": [
    "# indeksowanie \"maską logiczną\"\n",
    "df1[df1[\"Y\"] > 11]"
   ]
  },
  {
   "cell_type": "code",
   "execution_count": null,
   "metadata": {},
   "outputs": [],
   "source": [
    "# maska 2d\n",
    "df1 % 2 == 0 # ?"
   ]
  },
  {
   "cell_type": "code",
   "execution_count": null,
   "metadata": {},
   "outputs": [],
   "source": [
    "df1[df1 % 2 == 0] # ?"
   ]
  },
  {
   "cell_type": "code",
   "execution_count": null,
   "metadata": {},
   "outputs": [],
   "source": [
    "df1[df1[\"Y\"] > 6].loc[:, [\"X\", \"Z\"]] # ?"
   ]
  },
  {
   "cell_type": "code",
   "execution_count": null,
   "metadata": {},
   "outputs": [],
   "source": [
    "# łączenie warunków - AND\n",
    "df1[(df1[\"Y\"] > 2) & (df1[\"X\"] < 10)] "
   ]
  },
  {
   "cell_type": "code",
   "execution_count": null,
   "metadata": {},
   "outputs": [],
   "source": [
    "# łączenie warunków OR\n",
    "df1[(df1 < 4) | (df1 > 11)] "
   ]
  },
  {
   "cell_type": "code",
   "execution_count": null,
   "metadata": {},
   "outputs": [],
   "source": [
    "# zaprzeczenie\n",
    "df1[~(df1[\"Y\"] > 8)] "
   ]
  },
  {
   "cell_type": "markdown",
   "metadata": {},
   "source": [
    "Niektóre (trudniejsze?) warunki są obsługiwane przez funkcje Pandasa, np.: <br>\n",
    "*df[ df[\"X\"]  in  [1, 2, 3, 4] ]*  <br>\n",
    "Patrz: [How do I use within / in operator in a Pandas DataFrame?](https://stackoverflow.com/questions/31595146/how-do-i-use-within-in-operator-in-a-pandas-dataframe)"
   ]
  },
  {
   "cell_type": "code",
   "execution_count": null,
   "metadata": {},
   "outputs": [],
   "source": [
    "# df1[df1[\"X\"] in [3, 9, 23, 69, 777]]\n",
    "\n",
    "df1[df1[\"X\"].isin([3, 9, 23, 69, 777])]"
   ]
  },
  {
   "cell_type": "markdown",
   "metadata": {},
   "source": [
    "### Zmiany w danych"
   ]
  },
  {
   "cell_type": "code",
   "execution_count": null,
   "metadata": {},
   "outputs": [],
   "source": [
    "print(df1.columns)\n",
    "print(df1.index)\n",
    "# *columns/index w DataFrame daje wiele ciekawych możliwości, ale to temat na nieco później ;)  "
   ]
  },
  {
   "cell_type": "code",
   "execution_count": null,
   "metadata": {},
   "outputs": [],
   "source": [
    "# zmiana etykiet kolumn/wierszy\n",
    "df1.columns = [\"play\", \"with\", \"data\"]\n",
    "df1.index = [\"u\", \"w\", \"x\", \"y\", \"z\"]\n",
    "df1"
   ]
  },
  {
   "cell_type": "code",
   "execution_count": null,
   "metadata": {},
   "outputs": [],
   "source": [
    "# resetowanie etykiet wierszy\n",
    "df1 = df1.reset_index(drop=False)\n",
    "df1"
   ]
  },
  {
   "cell_type": "code",
   "execution_count": null,
   "metadata": {},
   "outputs": [],
   "source": [
    "# etykiety indeksów z wybranej kolumny\n",
    "df1 = df1.set_index(\"data\")\n",
    "df1"
   ]
  },
  {
   "cell_type": "code",
   "execution_count": null,
   "metadata": {},
   "outputs": [],
   "source": [
    "# nowe kolumny\n",
    "df1[\"NEW\"] = df1[\"play\"] + df1[\"with\"]\n",
    "df1"
   ]
  },
  {
   "cell_type": "code",
   "execution_count": null,
   "metadata": {},
   "outputs": [],
   "source": [
    "# usuwanie - kolumny\n",
    "df1.drop(columns=[\"NEW\"])"
   ]
  },
  {
   "cell_type": "code",
   "execution_count": null,
   "metadata": {},
   "outputs": [],
   "source": [
    "df1 # ? inplace"
   ]
  },
  {
   "cell_type": "code",
   "execution_count": null,
   "metadata": {},
   "outputs": [],
   "source": [
    "df1.drop(columns=[\"NEW\"], inplace=True)\n",
    "df1"
   ]
  },
  {
   "cell_type": "code",
   "execution_count": null,
   "metadata": {},
   "outputs": [],
   "source": [
    "# usuwanie - wiersze\n",
    "df1.drop(index=2) # dlaczego etykiety nie powinny być numeryczne?"
   ]
  },
  {
   "cell_type": "code",
   "execution_count": null,
   "metadata": {},
   "outputs": [],
   "source": [
    "# przypisanie wartości\n",
    "df1.loc[:, \"play\"] = [\"tu\", \"są\", \"Twoje\", \"nowe\", \"wartości\"]\n",
    "df1"
   ]
  },
  {
   "cell_type": "code",
   "execution_count": null,
   "metadata": {},
   "outputs": [],
   "source": [
    "df1.loc[:, \"play\"] = np.linspace(0, 1, len(df1))\n",
    "df1"
   ]
  },
  {
   "cell_type": "code",
   "execution_count": null,
   "metadata": {},
   "outputs": [],
   "source": [
    "# dołączanie wierszy*\n",
    "new_row = pd.Series(\n",
    "    data={\"index\": \"abc\", \"play\": 3, \"city\": \"Olsztyn\"}, \n",
    "    name=99\n",
    ")\n",
    "\n",
    "df1.append(new_row) # zwróć uwagę na kolumnę, której wcześniej nie było!\n",
    "# *tu dodajemy pojedynczy wiersz, ale równie dobrze może to być lista wierszy lub DataFrame"
   ]
  },
  {
   "cell_type": "code",
   "execution_count": null,
   "metadata": {},
   "outputs": [],
   "source": [
    "df1 # ? inplace"
   ]
  },
  {
   "cell_type": "markdown",
   "metadata": {},
   "source": [
    "### Operacje"
   ]
  },
  {
   "cell_type": "code",
   "execution_count": null,
   "metadata": {},
   "outputs": [],
   "source": [
    "df2 = pd.DataFrame(\n",
    "    data={\n",
    "        \"A\": [1, 2, 5, 3, 4], \n",
    "        \"B\": np.linspace(0, 1, 5), \n",
    "        \"C\": [\"ala\", \"ma\", \"kota\", \"i\", \"psa\"], \n",
    "        \"D\": range(-10, -5)\n",
    "    }\n",
    ")\n",
    "\n",
    "df2"
   ]
  },
  {
   "cell_type": "code",
   "execution_count": null,
   "metadata": {},
   "outputs": [],
   "source": [
    "# operacje na całej kolumnie\n",
    "df2[\"A\"].sum()"
   ]
  },
  {
   "cell_type": "code",
   "execution_count": null,
   "metadata": {},
   "outputs": [],
   "source": [
    "# operacje \"wiersz po wierszu\"\n",
    "df2[\"A\"] + df2[\"B\"]"
   ]
  },
  {
   "cell_type": "code",
   "execution_count": null,
   "metadata": {},
   "outputs": [],
   "source": [
    "# \"aplikowanie\" funkcji \n",
    "df2[\"C\"].apply(str.upper)"
   ]
  },
  {
   "cell_type": "code",
   "execution_count": null,
   "metadata": {},
   "outputs": [],
   "source": [
    "# lista dostępnych funkcji jest b. duża i czasem nie warto \"odkrywać koła\" na nowo\n",
    "df2[\"C\"].str.upper()"
   ]
  },
  {
   "cell_type": "code",
   "execution_count": null,
   "metadata": {},
   "outputs": [],
   "source": [
    "# \"aplikowanie\" funkcji dla całych wierszy\n",
    "df2.apply(lambda row : row[\"A\"] * row[\"C\"], axis=1) # axis mówi nam, według której osi się poruszamy!"
   ]
  },
  {
   "cell_type": "code",
   "execution_count": null,
   "metadata": {},
   "outputs": [],
   "source": [
    "# podobnie dla własnych funkcji\n",
    "def add_two(x):\n",
    "    return x + 2\n",
    "\n",
    "df2[\"B\"].apply(add_two)"
   ]
  },
  {
   "cell_type": "code",
   "execution_count": null,
   "metadata": {},
   "outputs": [],
   "source": [
    "# lub \n",
    "def say_hello(x):\n",
    "    return f\"Hello {x}\"\n",
    "\n",
    "df2[\"C\"].apply(say_hello)"
   ]
  },
  {
   "cell_type": "code",
   "execution_count": null,
   "metadata": {},
   "outputs": [],
   "source": [
    "# sortowanie wartości\n",
    "df2.sort_values(by=\"B\", ascending=False)"
   ]
  },
  {
   "cell_type": "code",
   "execution_count": null,
   "metadata": {},
   "outputs": [],
   "source": [
    "df2.iloc[2, 2] = np.nan # dla przykładu zastępujemy coś brakującą wartością \n",
    "df2"
   ]
  },
  {
   "cell_type": "code",
   "execution_count": null,
   "metadata": {},
   "outputs": [],
   "source": [
    "# znajdowanie brakujących wartości\n",
    "missing_C = df2[\"C\"].isnull()\n",
    "# missing_C = df2[\"C\"].isna() # można stosować zamiennie\n",
    "\n",
    "df2[missing_C]"
   ]
  },
  {
   "cell_type": "code",
   "execution_count": null,
   "metadata": {},
   "outputs": [],
   "source": [
    "# tutaj odwrotnie\n",
    "not_missing_C = df2[\"C\"].notnull()\n",
    "# not_missing_C = df2[\"C\"].notna() # można stosować zamiennie\n",
    "\n",
    "df2[not_missing_C]"
   ]
  },
  {
   "cell_type": "code",
   "execution_count": null,
   "metadata": {},
   "outputs": [],
   "source": [
    "# usuwanie wartości brakujących\n",
    "df2.dropna(\n",
    "    axis=0, # wiersze/kolumny\n",
    "    how='any', # jeden/wszystkie\n",
    "    thresh=None # min. liczba wartości brakujących\n",
    ")"
   ]
  },
  {
   "cell_type": "code",
   "execution_count": null,
   "metadata": {},
   "outputs": [],
   "source": [
    "# wypełnianie wartości brakujących\n",
    "df2.fillna(\"WYPEŁNIONE!\") "
   ]
  },
  {
   "cell_type": "code",
   "execution_count": null,
   "metadata": {},
   "outputs": [],
   "source": [
    "# podobnie, ale z użyciem istniejących wartości\n",
    "df2.fillna(method=\"bfill\")\n",
    "# df2.fillna(method=\"ffill\")"
   ]
  },
  {
   "cell_type": "markdown",
   "metadata": {},
   "source": [
    "### Inne przekształcenia"
   ]
  },
  {
   "cell_type": "code",
   "execution_count": null,
   "metadata": {},
   "outputs": [],
   "source": [
    "# zamiana wiersze/kolumny\n",
    "df2.T\n",
    "# df2.transpose()"
   ]
  },
  {
   "cell_type": "code",
   "execution_count": null,
   "metadata": {},
   "outputs": [],
   "source": [
    "df2[\"A\"] = np.random.choice([\"a\", \"b\"], len(df2)) # dla przykładu dodajemy jakieś losowe dane\n",
    "df2[\"E\"] = np.random.choice([\"X\", \"Y\"], len(df2))\n",
    "df2"
   ]
  },
  {
   "cell_type": "code",
   "execution_count": null,
   "metadata": {},
   "outputs": [],
   "source": [
    "# grupowanie\n",
    "df2.groupby(\"A\").count()"
   ]
  },
  {
   "cell_type": "code",
   "execution_count": null,
   "metadata": {},
   "outputs": [],
   "source": [
    "# podobnie, jeśli grupujemy po więcej niż 1 kolumnie\n",
    "df2.groupby([\"A\", \"E\"]).mean()"
   ]
  },
  {
   "cell_type": "code",
   "execution_count": null,
   "metadata": {},
   "outputs": [],
   "source": [
    "# kolumny, po których grupujemy trafiły do indeksu - możemy to pominąć\n",
    "df2.groupby([\"A\", \"E\"], as_index=False).mean()"
   ]
  },
  {
   "cell_type": "code",
   "execution_count": null,
   "metadata": {},
   "outputs": [],
   "source": [
    "# możemy użyć dowolnych funkcji agregujących\n",
    "df2.groupby([\"A\", \"E\"], as_index=False).agg({\"D\": \"mean\", \"B\": [\"count\", \"min\", \"max\"]}) # ale o tym nieco później ;)"
   ]
  },
  {
   "cell_type": "code",
   "execution_count": null,
   "metadata": {},
   "outputs": [],
   "source": [
    "# tabele przestawne, \"prawie\" jak w Excel-u ;)\n",
    "df2.pivot_table(\n",
    "    index=\"A\", \n",
    "    columns=\"D\",\n",
    "    values=\"B\", \n",
    "    aggfunc=\"sum\"\n",
    ") "
   ]
  },
  {
   "cell_type": "markdown",
   "metadata": {},
   "source": [
    "### Przydatne"
   ]
  },
  {
   "cell_type": "code",
   "execution_count": null,
   "metadata": {},
   "outputs": [],
   "source": [
    "# zliczenie \"niepustych\" wartości\n",
    "df2.count()\n",
    "# df[\"A\"].count() # identycznie dla wybranej kolumny"
   ]
  },
  {
   "cell_type": "code",
   "execution_count": null,
   "metadata": {},
   "outputs": [],
   "source": [
    "# wartości unikalne\n",
    "df2[\"A\"].unique()"
   ]
  },
  {
   "cell_type": "code",
   "execution_count": null,
   "metadata": {},
   "outputs": [],
   "source": [
    "# liczba unikalnych wartości\n",
    "df2[\"A\"].nunique()"
   ]
  },
  {
   "cell_type": "code",
   "execution_count": null,
   "metadata": {},
   "outputs": [],
   "source": [
    "# wystąpienia poszczególnych wartości\n",
    "df2[\"A\"].value_counts()"
   ]
  },
  {
   "cell_type": "code",
   "execution_count": null,
   "metadata": {},
   "outputs": [],
   "source": [
    "# ogólne informacje o ilości i rodzaju danych\n",
    "df2.info()"
   ]
  },
  {
   "cell_type": "code",
   "execution_count": null,
   "metadata": {},
   "outputs": [],
   "source": [
    "# podstawowe statystyki\n",
    "df2.describe() # domyślnie wyłącznie dla wartości liczbowych"
   ]
  },
  {
   "cell_type": "code",
   "execution_count": null,
   "metadata": {},
   "outputs": [],
   "source": [
    "# dodatkowe informacje z uwzględnieniem wszystkich kolumn\n",
    "df2.describe(include=\"all\")"
   ]
  },
  {
   "cell_type": "code",
   "execution_count": null,
   "metadata": {},
   "outputs": [],
   "source": [
    "# wyświetlenie pierwszych/ostatnich wierszy\n",
    "df2.head()\n",
    "# df2.tail()"
   ]
  },
  {
   "cell_type": "markdown",
   "metadata": {},
   "source": [
    "<img src='img/panda_5.jpg' align=\"left\" style=\"height: 200px;\"/>"
   ]
  },
  {
   "cell_type": "markdown",
   "metadata": {},
   "source": [
    "## Łączenie ramek"
   ]
  },
  {
   "cell_type": "code",
   "execution_count": null,
   "metadata": {},
   "outputs": [],
   "source": [
    "d1 = pd.DataFrame({\"A\": [\"A1\", \"A2\", \"A3\"], \n",
    "                   \"B\": [\"B1\", \"B2\", \"B3\"], \n",
    "                   \"C\": [\"C1\", \"C2\", \"C3\"]}, \n",
    "                  index=[1, 2, 3])\n",
    "\n",
    "d2 = pd.DataFrame({\"A\": [\"A4\", \"A5\", \"A6\"], \n",
    "                   \"B\": [\"B4\", \"B5\", \"B6\"], \n",
    "                   \"C\": [\"C4\", \"C5\", \"C6\"]}, \n",
    "                  index=[4, 5, 6])\n",
    "\n",
    "d3 = pd.DataFrame({\"A\": [\"A7\", \"A8\", \"A9\"], \n",
    "                   \"B\": [\"B7\", \"B8\", \"B9\"], \n",
    "                   \"C\": [\"C7\", \"C8\", \"C9\"]}, \n",
    "                  index=[7, 8, 9])\n",
    "\n",
    "print(d1)\n",
    "print()\n",
    "\n",
    "print(d2)\n",
    "print()\n",
    "\n",
    "print(d3)\n",
    "print()"
   ]
  },
  {
   "cell_type": "code",
   "execution_count": null,
   "metadata": {},
   "outputs": [],
   "source": [
    "# \"doklejanie\" DataFrame'ów według kolumn/indeksów\n",
    "pd.concat([d1, d2, d3], axis=0)"
   ]
  },
  {
   "cell_type": "code",
   "execution_count": null,
   "metadata": {},
   "outputs": [],
   "source": [
    "# w drugą stronę?\n",
    "pd.concat([d1, d2, d3], axis=1) "
   ]
  },
  {
   "cell_type": "code",
   "execution_count": null,
   "metadata": {},
   "outputs": [],
   "source": [
    "d4 = pd.DataFrame({\"K\":[\"K0\", \"K1\", \"K2\"], \"A\":[1, 2, 3]})\n",
    "\n",
    "d5 = pd.DataFrame({\"K\":[\"K1\", \"K2\", \"K3\"], \"B\":[4, 5, 6]})\n",
    "\n",
    "print(d4)\n",
    "print()\n",
    "print(d5)"
   ]
  },
  {
   "cell_type": "code",
   "execution_count": null,
   "metadata": {},
   "outputs": [],
   "source": [
    "# łączenie według \"klucza\"\n",
    "pd.merge(left=d4, right=d5, on=\"K\", how=\"inner\")"
   ]
  },
  {
   "cell_type": "code",
   "execution_count": null,
   "metadata": {},
   "outputs": [],
   "source": [
    "pd.merge(left=d4, right=d5, on=\"K\", how=\"outer\") "
   ]
  },
  {
   "cell_type": "markdown",
   "metadata": {},
   "source": [
    "<img src='img/joins.png' align=\"left\"/>"
   ]
  },
  {
   "cell_type": "markdown",
   "metadata": {},
   "source": [
    "## Input / Output"
   ]
  },
  {
   "cell_type": "code",
   "execution_count": null,
   "metadata": {},
   "outputs": [],
   "source": [
    "# pd.read # ?"
   ]
  },
  {
   "cell_type": "code",
   "execution_count": null,
   "metadata": {},
   "outputs": [],
   "source": [
    "# odczyt .csv \n",
    "dieta = pd.read_csv(\"data/dieta.csv\") # uwaga - ta funkcja wygląda niepozornie, ale kryje ogromne możliwości :) \n",
    "dieta.head()"
   ]
  },
  {
   "cell_type": "code",
   "execution_count": null,
   "metadata": {},
   "outputs": [],
   "source": [
    "# zapis .csv\n",
    "dieta.to_csv(\"data/dieta.csv\", index=False)"
   ]
  },
  {
   "cell_type": "code",
   "execution_count": null,
   "metadata": {},
   "outputs": [],
   "source": [
    "# odczyt .xlsx\n",
    "jadlospis = pd.read_excel(\"data/jadlospis.xlsx\", sheet_name=\"dzien1\") \n",
    "jadlospis.head()"
   ]
  },
  {
   "cell_type": "code",
   "execution_count": null,
   "metadata": {},
   "outputs": [],
   "source": [
    "# co kryje się w danych?\n",
    "jadlospis.info()"
   ]
  },
  {
   "cell_type": "code",
   "execution_count": null,
   "metadata": {},
   "outputs": [],
   "source": [
    "# zróbmy małą agregację i zapiszmy kopię\n",
    "jadlospis = jadlospis.groupby([\"posiłek\", \"produkt\"]).sum()\n",
    "jadlospis"
   ]
  },
  {
   "cell_type": "code",
   "execution_count": null,
   "metadata": {},
   "outputs": [],
   "source": [
    "jadlospis.to_excel(\"data/jadlospis_grouped.xlsx\", sheet_name=\"dzien1\")"
   ]
  },
  {
   "cell_type": "code",
   "execution_count": null,
   "metadata": {},
   "outputs": [],
   "source": [
    "# Inne, dość często używane\n",
    "\n",
    "# pd.read_pickle\n",
    "# df.to_pickle\n",
    "\n",
    "# pd.read_sql\n",
    "# df.to_sql"
   ]
  },
  {
   "cell_type": "markdown",
   "metadata": {},
   "source": [
    "<img src='img/panda_6.jpg' align=\"left\" style=\"height: 200px;\"/>"
   ]
  },
  {
   "cell_type": "markdown",
   "metadata": {},
   "source": [
    "## Co dalej?"
   ]
  },
  {
   "cell_type": "markdown",
   "metadata": {},
   "source": [
    "Tyle teorii to aż nadto na start, ale bez praktyki się nie obędzie. <br>\n",
    "Przyszedł czas na nieco [ĆWICZEŃ]('2a_Pandas_w_akcji_(zadania).ipynb')"
   ]
  }
 ],
 "metadata": {
  "kernelspec": {
   "display_name": "Python 3",
   "language": "python",
   "name": "python3"
  },
  "language_info": {
   "codemirror_mode": {
    "name": "ipython",
    "version": 3
   },
   "file_extension": ".py",
   "mimetype": "text/x-python",
   "name": "python",
   "nbconvert_exporter": "python",
   "pygments_lexer": "ipython3",
   "version": "3.7.3"
  }
 },
 "nbformat": 4,
 "nbformat_minor": 2
}
